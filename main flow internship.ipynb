{
 "cells": [
  {
   "cell_type": "code",
   "execution_count": null,
   "id": "8a3bb1b6",
   "metadata": {},
   "outputs": [],
   "source": []
  },
  {
   "cell_type": "markdown",
   "id": "81e064ea",
   "metadata": {},
   "source": [
    "CREATING LIST"
   ]
  },
  {
   "cell_type": "code",
   "execution_count": 23,
   "id": "7f063c07",
   "metadata": {},
   "outputs": [],
   "source": [
    "my_list1 = [1,2,3,4,5,6,7,8,9,10]"
   ]
  },
  {
   "cell_type": "code",
   "execution_count": 24,
   "id": "4640d1d7",
   "metadata": {},
   "outputs": [
    {
     "data": {
      "text/plain": [
       "1"
      ]
     },
     "execution_count": 24,
     "metadata": {},
     "output_type": "execute_result"
    }
   ],
   "source": [
    "elements= my_list1[0]\n",
    "elements"
   ]
  },
  {
   "cell_type": "code",
   "execution_count": 25,
   "id": "a75d88c3",
   "metadata": {},
   "outputs": [
    {
     "data": {
      "text/plain": [
       "[1, 2, 4, 5, 6, 7, 8, 9, 10]"
      ]
     },
     "execution_count": 25,
     "metadata": {},
     "output_type": "execute_result"
    }
   ],
   "source": [
    "#my_list1.remove()\n",
    "my_list1.pop(2)\n",
    "my_list1"
   ]
  },
  {
   "cell_type": "code",
   "execution_count": 26,
   "id": "4edfd0e0",
   "metadata": {},
   "outputs": [
    {
     "data": {
      "text/plain": [
       "[1, 2, 4, 5, 6, 7, 8, 9, 10, 20]"
      ]
     },
     "execution_count": 26,
     "metadata": {},
     "output_type": "execute_result"
    }
   ],
   "source": [
    "#to add an element\n",
    "my_list1.append(20)\n",
    "my_list1"
   ]
  },
  {
   "cell_type": "code",
   "execution_count": 27,
   "id": "c3bd4b27",
   "metadata": {},
   "outputs": [
    {
     "data": {
      "text/plain": [
       "[20, 10, 9, 8, 7, 6, 5, 4, 2, 1]"
      ]
     },
     "execution_count": 27,
     "metadata": {},
     "output_type": "execute_result"
    }
   ],
   "source": [
    "#to reverse an element  \n",
    "my_list1.reverse()\n",
    "my_list1"
   ]
  },
  {
   "cell_type": "code",
   "execution_count": 28,
   "id": "563ac468",
   "metadata": {},
   "outputs": [
    {
     "data": {
      "text/plain": [
       "[]"
      ]
     },
     "execution_count": 28,
     "metadata": {},
     "output_type": "execute_result"
    }
   ],
   "source": [
    "my_list1.clear()\n",
    "my_list1"
   ]
  },
  {
   "cell_type": "markdown",
   "id": "c18ab7cb",
   "metadata": {},
   "source": [
    "CREATING DICTIONARIES"
   ]
  },
  {
   "cell_type": "code",
   "execution_count": 29,
   "id": "84859e5d",
   "metadata": {},
   "outputs": [
    {
     "data": {
      "text/plain": [
       "{'Name': 'Moaksha', 'Age': 20, 'City': 'Panipat'}"
      ]
     },
     "execution_count": 29,
     "metadata": {},
     "output_type": "execute_result"
    }
   ],
   "source": [
    "my_dict1 = {'Name': 'Moaksha', \n",
    "            'Age': 20,\n",
    "            'City':'Panipat'}\n",
    "my_dict1"
   ]
  },
  {
   "cell_type": "code",
   "execution_count": 30,
   "id": "3dd324fc",
   "metadata": {},
   "outputs": [
    {
     "data": {
      "text/plain": [
       "'Moaksha'"
      ]
     },
     "execution_count": 30,
     "metadata": {},
     "output_type": "execute_result"
    }
   ],
   "source": [
    "#accesing the values from the dictionary using keys\n",
    "value=my_dict1['Name']\n",
    "value"
   ]
  },
  {
   "cell_type": "code",
   "execution_count": 31,
   "id": "631b19dd",
   "metadata": {},
   "outputs": [
    {
     "data": {
      "text/plain": [
       "{'Name': 'Moaksha',\n",
       " 'Age': 20,\n",
       " 'City': 'Panipat',\n",
       " 'Gender': 'Female',\n",
       " 'Education': 'Undergraduate',\n",
       " 'Number': '4857912586'}"
      ]
     },
     "execution_count": 31,
     "metadata": {},
     "output_type": "execute_result"
    }
   ],
   "source": [
    "#adding values\n",
    "my_dict1['Gender'] = 'Female'\n",
    "my_dict1['Education'] = 'Undergraduate'\n",
    "my_dict1['Number'] = '4857912586'\n",
    "my_dict1"
   ]
  },
  {
   "cell_type": "code",
   "execution_count": 32,
   "id": "72d40411",
   "metadata": {},
   "outputs": [
    {
     "data": {
      "text/plain": [
       "{'Name': 'Moaksha',\n",
       " 'Age': 20,\n",
       " 'City': 'Panipat',\n",
       " 'Gender': 'Female',\n",
       " 'Number': '4857912586'}"
      ]
     },
     "execution_count": 32,
     "metadata": {},
     "output_type": "execute_result"
    }
   ],
   "source": [
    "#removing values\n",
    "del my_dict1['Education']\n",
    "#my_dict1.clear()  # Removes all entries\n",
    "my_dict1"
   ]
  },
  {
   "cell_type": "code",
   "execution_count": 33,
   "id": "f4f7d253",
   "metadata": {},
   "outputs": [
    {
     "data": {
      "text/plain": [
       "{'Name': 'Mishi', 'Age': 22, 'City': 'Sonipat'}"
      ]
     },
     "execution_count": 33,
     "metadata": {},
     "output_type": "execute_result"
    }
   ],
   "source": [
    "#merging dictionaries\n",
    "my_dict1\n",
    "my_dict2 =  {'Name': 'Mishi', \n",
    "            'Age': 22,\n",
    "            'City':'Sonipat'}\n",
    "my_dict2"
   ]
  },
  {
   "cell_type": "code",
   "execution_count": 34,
   "id": "5592e624",
   "metadata": {},
   "outputs": [
    {
     "data": {
      "text/plain": [
       "{'Name': 'Mishi',\n",
       " 'Age': 22,\n",
       " 'City': 'Sonipat',\n",
       " 'Gender': 'Female',\n",
       " 'Number': '4857912586'}"
      ]
     },
     "execution_count": 34,
     "metadata": {},
     "output_type": "execute_result"
    }
   ],
   "source": [
    "#Modifying dictionaries\n",
    "merged_dict = my_dict1 | my_dict2\n",
    "merged_dict"
   ]
  },
  {
   "cell_type": "code",
   "execution_count": 35,
   "id": "6191c6cb",
   "metadata": {},
   "outputs": [
    {
     "data": {
      "text/plain": [
       "{'Name': 'Mishi',\n",
       " 'Age': 22,\n",
       " 'City': 'Sonipat',\n",
       " 'Gender': 'Female',\n",
       " 'Number': '4857912586'}"
      ]
     },
     "execution_count": 35,
     "metadata": {},
     "output_type": "execute_result"
    }
   ],
   "source": [
    "my_dict1.update(my_dict2)\n",
    "my_dict1"
   ]
  },
  {
   "cell_type": "markdown",
   "id": "1c5f9946",
   "metadata": {},
   "source": [
    "CREATING SET"
   ]
  },
  {
   "cell_type": "code",
   "execution_count": 36,
   "id": "ee7fdb7a",
   "metadata": {},
   "outputs": [
    {
     "data": {
      "text/plain": [
       "{1, 2, 3, 4, 5, 6, 7, 8, 9}"
      ]
     },
     "execution_count": 36,
     "metadata": {},
     "output_type": "execute_result"
    }
   ],
   "source": [
    "my_set1 = {1,2,3,4,5,6,7,8,9}\n",
    "my_set1"
   ]
  },
  {
   "cell_type": "code",
   "execution_count": 40,
   "id": "79cc94ff",
   "metadata": {},
   "outputs": [
    {
     "data": {
      "text/plain": [
       "{1, 2, 3, 4, 5, 6, 7, 8, 9, 11, 12, 13, 14}"
      ]
     },
     "execution_count": 40,
     "metadata": {},
     "output_type": "execute_result"
    }
   ],
   "source": [
    "#adding elements\n",
    "my_set1.add(4)\n",
    "\n",
    "my_set1.update({11, 12}, {13, 14})  \n",
    "\n",
    "my_set1"
   ]
  },
  {
   "cell_type": "code",
   "execution_count": 41,
   "id": "484bc3e3",
   "metadata": {},
   "outputs": [
    {
     "data": {
      "text/plain": [
       "{1, 3, 5, 6, 7, 8, 9, 11, 12, 13, 14}"
      ]
     },
     "execution_count": 41,
     "metadata": {},
     "output_type": "execute_result"
    }
   ],
   "source": [
    "#removing elements\n",
    "my_set1.remove(4) \n",
    "\n",
    "my_set1.discard(2)\n",
    "\n",
    "my_set1"
   ]
  },
  {
   "cell_type": "code",
   "execution_count": 43,
   "id": "e0443894",
   "metadata": {},
   "outputs": [
    {
     "data": {
      "text/plain": [
       "{2, 3, 5, 6, 9, 14, 15, 20, 23}"
      ]
     },
     "execution_count": 43,
     "metadata": {},
     "output_type": "execute_result"
    }
   ],
   "source": [
    "my_set2 = {3,5,6,9,14,15,23,2,20}\n",
    "my_set2"
   ]
  },
  {
   "cell_type": "code",
   "execution_count": 45,
   "id": "f26c34ec",
   "metadata": {},
   "outputs": [
    {
     "data": {
      "text/plain": [
       "{1, 2, 3, 5, 6, 7, 8, 9, 11, 12, 13, 14, 15, 20, 23}"
      ]
     },
     "execution_count": 45,
     "metadata": {},
     "output_type": "execute_result"
    }
   ],
   "source": [
    "#operations\n",
    "union_set = my_set1 | my_set2\n",
    "union_set\n"
   ]
  },
  {
   "cell_type": "code",
   "execution_count": 46,
   "id": "7a4324ca",
   "metadata": {},
   "outputs": [
    {
     "data": {
      "text/plain": [
       "{3, 5, 6, 9, 14}"
      ]
     },
     "execution_count": 46,
     "metadata": {},
     "output_type": "execute_result"
    }
   ],
   "source": [
    "intersection_set = my_set1 & my_set2  \n",
    "intersection_set"
   ]
  },
  {
   "cell_type": "code",
   "execution_count": 47,
   "id": "b12faaa3",
   "metadata": {},
   "outputs": [
    {
     "data": {
      "text/plain": [
       "{1, 7, 8, 11, 12, 13}"
      ]
     },
     "execution_count": 47,
     "metadata": {},
     "output_type": "execute_result"
    }
   ],
   "source": [
    "difference_set = my_set1 - my_set2\n",
    "difference_set"
   ]
  }
 ],
 "metadata": {
  "kernelspec": {
   "display_name": "Python 3 (ipykernel)",
   "language": "python",
   "name": "python3"
  },
  "language_info": {
   "codemirror_mode": {
    "name": "ipython",
    "version": 3
   },
   "file_extension": ".py",
   "mimetype": "text/x-python",
   "name": "python",
   "nbconvert_exporter": "python",
   "pygments_lexer": "ipython3",
   "version": "3.11.4"
  }
 },
 "nbformat": 4,
 "nbformat_minor": 5
}
